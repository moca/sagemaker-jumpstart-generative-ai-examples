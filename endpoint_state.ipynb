{
 "cells": [
  {
   "cell_type": "code",
   "execution_count": 21,
   "id": "66051f65-500b-45dc-8cd3-d05cc8a89b5c",
   "metadata": {
    "tags": []
   },
   "outputs": [
    {
     "name": "stdout",
     "output_type": "stream",
     "text": [
      "ml.p3.2xlarge genai-paris-huggingface-text2text-flan-t5-xl-20230403212649\n",
      "ml.g4dn.2xlarge js-cats-lab2-20230403211954\n",
      "ml.p3.2xlarge js-cats-lab1-20230403172239\n",
      "ml.m4.xlarge tensorflow-training-2023-02-01-21-54-41-232\n",
      "ml.m4.xlarge tensorflow-training-2023-02-01-21-52-09-507\n",
      "ml.m4.xlarge xgboost-230131-2050-003-96d3a67b\n",
      "ml.m4.xlarge xgboost-2023-01-23-15-53-55-742\n"
     ]
    }
   ],
   "source": [
    "import boto3\n",
    "\n",
    "# create a SageMaker client\n",
    "client = boto3.client('sagemaker')\n",
    "\n",
    "# call the list_endpoints API\n",
    "endpoints = client.list_endpoints()['Endpoints']\n",
    "\n",
    "# loop through the endpoints and print their names\n",
    "for endpoint in endpoints:    \n",
    "    config = client.describe_endpoint_config(EndpointConfigName=endpoint['EndpointName'])\n",
    "    print(config['ProductionVariants'][0]['InstanceType'] , endpoint['EndpointName'], )\n"
   ]
  }
 ],
 "metadata": {
  "instance_type": "ml.t3.medium",
  "kernelspec": {
   "display_name": "Python 3 (Data Science)",
   "language": "python",
   "name": "python3__SAGEMAKER_INTERNAL__arn:aws:sagemaker:eu-central-1:936697816551:image/datascience-1.0"
  },
  "language_info": {
   "codemirror_mode": {
    "name": "ipython",
    "version": 3
   },
   "file_extension": ".py",
   "mimetype": "text/x-python",
   "name": "python",
   "nbconvert_exporter": "python",
   "pygments_lexer": "ipython3",
   "version": "3.7.10"
  }
 },
 "nbformat": 4,
 "nbformat_minor": 5
}
